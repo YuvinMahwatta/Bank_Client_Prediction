{
 "cells": [
  {
   "cell_type": "code",
   "execution_count": null,
   "metadata": {
    "vscode": {
     "languageId": "plaintext"
    }
   },
   "outputs": [],
   "source": [
    "import pandas as pd\n",
    "\n",
    "# Load the CSV file\n",
    "input_file = 'bank-additional-full.csv'  # Replace with your actual file name\n",
    "output_file = 'output_file.csv'  # Replace with your desired output file name\n",
    "\n",
    "# Read the CSV file, specifying that the delimiter is a semicolon\n",
    "# Assuming the column headers are on the first row\n",
    "try:\n",
    "    df = pd.read_csv(input_file, sep=';')\n",
    "\n",
    "    # Save the cleaned data to a new CSV file\n",
    "    df.to_csv(output_file, index=False)\n",
    "\n",
    "    print(f\"Data successfully separated into columns and saved to {output_file}\")\n",
    "except Exception as e:\n",
    "    print(f\"An error occurred: {e}\")\n"
   ]
  }
 ],
 "metadata": {
  "language_info": {
   "name": "python"
  }
 },
 "nbformat": 4,
 "nbformat_minor": 2
}
