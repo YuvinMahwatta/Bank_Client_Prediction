{
  "nbformat": 4,
  "nbformat_minor": 0,
  "metadata": {
    "colab": {
      "provenance": [],
      "authorship_tag": "ABX9TyOaMMM+P1kv9C4FjDXB7gr+",
      "include_colab_link": true
    },
    "kernelspec": {
      "name": "python3",
      "display_name": "Python 3"
    },
    "language_info": {
      "name": "python"
    }
  },
  "cells": [
    {
      "cell_type": "markdown",
      "metadata": {
        "id": "view-in-github",
        "colab_type": "text"
      },
      "source": [
        "<a href=\"https://colab.research.google.com/github/YuvinMahwatta/Bank_Client_Prediction/blob/Data_Cleaning/Data%20Cleaning/Data_Cleaning.ipynb\" target=\"_parent\"><img src=\"https://colab.research.google.com/assets/colab-badge.svg\" alt=\"Open In Colab\"/></a>"
      ]
    },
    {
      "cell_type": "code",
      "execution_count": null,
      "metadata": {
        "colab": {
          "base_uri": "https://localhost:8080/"
        },
        "id": "XHUITzpp0Sr7",
        "outputId": "a001a8c4-7462-4bfb-b481-4c4a88e665b2"
      },
      "outputs": [
        {
          "output_type": "stream",
          "name": "stdout",
          "text": [
            "An error occurred: [Errno 2] No such file or directory: 'bank-additional-full.csv'\n"
          ]
        }
      ],
      "source": [
        "import pandas as pd\n",
        "\n",
        "# Load the CSV file\n",
        "input_file = 'bank-additional-full.csv'  # Replace with your actual file name\n",
        "output_file = 'output_file.csv'  # Replace with your desired output file name\n",
        "\n",
        "# Read the CSV file, specifying that the delimiter is a semicolon\n",
        "# Assuming the column headers are on the first row\n",
        "try:\n",
        "    df = pd.read_csv(input_file, sep=';')\n",
        "\n",
        "    # Save the cleaned data to a new CSV file\n",
        "    df.to_csv(output_file, index=False)\n",
        "\n",
        "    print(f\"Data successfully separated into columns and saved to {output_file}\")\n",
        "except Exception as e:\n",
        "    print(f\"An error occurred: {e}\")\n"
      ]
    },
    {
      "cell_type": "code",
      "source": [
        "import pandas as pd\n",
        "\n",
        "# Load the CSV file\n",
        "file_path = 'output_file.csv'\n",
        "df = pd.read_csv(file_path)\n",
        "\n",
        "# Remove duplicate rows\n",
        "df_cleaned = df.drop_duplicates()\n",
        "\n",
        "# Save the cleaned data to an Excel file\n",
        "output_excel_path = 'duplicate_removed_output.csv'\n",
        "df_cleaned.to_csv(output_excel_path, index=False)\n",
        "\n",
        "print(f'Duplicates removed. Cleaned file saved as {output_excel_path}')\n"
      ],
      "metadata": {
        "colab": {
          "base_uri": "https://localhost:8080/"
        },
        "id": "HtYGoky78Q1Q",
        "outputId": "556d7a53-92ac-4422-c6b0-994629bcc59b"
      },
      "execution_count": null,
      "outputs": [
        {
          "output_type": "stream",
          "name": "stdout",
          "text": [
            "Duplicates removed. Cleaned file saved as duplicate_removed_output.csv\n"
          ]
        }
      ]
    },
    {
      "cell_type": "code",
      "source": [
        "import pandas as pd\n",
        "\n",
        "# Load the CSV file\n",
        "data = pd.read_csv('duplicate_removed_output.csv')\n",
        "\n",
        "# Perform one-hot encoding\n",
        "encoded_data = pd.get_dummies(data)\n",
        "\n",
        "# Replace True/False with 1/0\n",
        "encoded_data = encoded_data.replace({True: 1, False: 0})\n",
        "\n",
        "# Save the encoded data to a new CSV file\n",
        "encoded_data.to_csv('encoded_data.csv', index=False)\n",
        "\n",
        "print(\"One-hot encoding completed. Encoded file saved as 'encoded_data.csv'\")\n"
      ],
      "metadata": {
        "colab": {
          "base_uri": "https://localhost:8080/"
        },
        "id": "XgY9S_kSFsP4",
        "outputId": "a5a65a46-1946-45b3-fe4b-12a81f1079fd"
      },
      "execution_count": 14,
      "outputs": [
        {
          "output_type": "stream",
          "name": "stderr",
          "text": [
            "<ipython-input-14-6510a81a33f1>:10: FutureWarning: Downcasting behavior in `replace` is deprecated and will be removed in a future version. To retain the old behavior, explicitly call `result.infer_objects(copy=False)`. To opt-in to the future behavior, set `pd.set_option('future.no_silent_downcasting', True)`\n",
            "  encoded_data = encoded_data.replace({True: 1, False: 0})\n"
          ]
        },
        {
          "output_type": "stream",
          "name": "stdout",
          "text": [
            "One-hot encoding completed. Encoded file saved as 'encoded_data.csv'\n"
          ]
        }
      ]
    },
    {
      "cell_type": "code",
      "source": [
        "import pandas as pd\n",
        "\n",
        "# Load the CSV file\n",
        "file_path = 'encoded_data.csv'\n",
        "df = pd.read_csv(file_path)\n",
        "\n",
        "# Display the first few rows to confirm the column names\n",
        "print(df.head())\n",
        "\n",
        "# Remove the 'y_no' column if it exists\n",
        "if 'y_no' in df.columns:\n",
        "    df.drop(columns=['y_no'], inplace=True)\n",
        "\n",
        "# Save the updated dataframe to a new file\n",
        "output_path = 'encoded_data_updated.csv'\n",
        "df.to_csv(output_path, index=False)\n",
        "\n",
        "print(f\"'y_no' column removed. Updated file saved to {output_path}\")\n"
      ],
      "metadata": {
        "colab": {
          "base_uri": "https://localhost:8080/"
        },
        "id": "-NAZgeUqpzp5",
        "outputId": "7d01b006-d174-4b92-d6a9-4eb2547d5d79"
      },
      "execution_count": 3,
      "outputs": [
        {
          "output_type": "stream",
          "name": "stdout",
          "text": [
            "   age  duration  campaign  pdays  previous  emp.var.rate  cons.price.idx  \\\n",
            "0   56       261         1    999         0           1.1          93.994   \n",
            "1   57       149         1    999         0           1.1          93.994   \n",
            "2   37       226         1    999         0           1.1          93.994   \n",
            "3   40       151         1    999         0           1.1          93.994   \n",
            "4   56       307         1    999         0           1.1          93.994   \n",
            "\n",
            "   cons.conf.idx  euribor3m  nr.employed  ...  day_of_week_fri  \\\n",
            "0          -36.4      4.857       5191.0  ...                0   \n",
            "1          -36.4      4.857       5191.0  ...                0   \n",
            "2          -36.4      4.857       5191.0  ...                0   \n",
            "3          -36.4      4.857       5191.0  ...                0   \n",
            "4          -36.4      4.857       5191.0  ...                0   \n",
            "\n",
            "   day_of_week_mon  day_of_week_thu  day_of_week_tue  day_of_week_wed  \\\n",
            "0                1                0                0                0   \n",
            "1                1                0                0                0   \n",
            "2                1                0                0                0   \n",
            "3                1                0                0                0   \n",
            "4                1                0                0                0   \n",
            "\n",
            "   poutcome_failure  poutcome_nonexistent  poutcome_success  y_no  y_yes  \n",
            "0                 0                     1                 0     1      0  \n",
            "1                 0                     1                 0     1      0  \n",
            "2                 0                     1                 0     1      0  \n",
            "3                 0                     1                 0     1      0  \n",
            "4                 0                     1                 0     1      0  \n",
            "\n",
            "[5 rows x 65 columns]\n",
            "'y_no' column removed. Updated file saved to encoded_data_updated.csv\n"
          ]
        }
      ]
    }
  ]
}