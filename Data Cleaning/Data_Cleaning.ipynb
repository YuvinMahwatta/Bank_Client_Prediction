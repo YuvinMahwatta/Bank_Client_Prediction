{
  "nbformat": 4,
  "nbformat_minor": 0,
  "metadata": {
    "colab": {
      "provenance": [],
      "authorship_tag": "ABX9TyOSYBiz5KMW/TPV5NXkaRyb",
      "include_colab_link": true
    },
    "kernelspec": {
      "name": "python3",
      "display_name": "Python 3"
    },
    "language_info": {
      "name": "python"
    }
  },
  "cells": [
    {
      "cell_type": "markdown",
      "metadata": {
        "id": "view-in-github",
        "colab_type": "text"
      },
      "source": [
        "<a href=\"https://colab.research.google.com/github/YuvinMahwatta/Bank_Client_Prediction/blob/Data_Cleaning/Data%20Cleaning/Data_Cleaning.ipynb\" target=\"_parent\"><img src=\"https://colab.research.google.com/assets/colab-badge.svg\" alt=\"Open In Colab\"/></a>"
      ]
    },
    {
      "cell_type": "code",
      "execution_count": null,
      "metadata": {
        "colab": {
          "base_uri": "https://localhost:8080/"
        },
        "id": "XHUITzpp0Sr7",
        "outputId": "a001a8c4-7462-4bfb-b481-4c4a88e665b2"
      },
      "outputs": [
        {
          "output_type": "stream",
          "name": "stdout",
          "text": [
            "An error occurred: [Errno 2] No such file or directory: 'bank-additional-full.csv'\n"
          ]
        }
      ],
      "source": [
        "import pandas as pd\n",
        "\n",
        "# Load the CSV file\n",
        "input_file = 'bank-additional-full.csv'  # Replace with your actual file name\n",
        "output_file = 'output_file.csv'  # Replace with your desired output file name\n",
        "\n",
        "# Read the CSV file, specifying that the delimiter is a semicolon\n",
        "# Assuming the column headers are on the first row\n",
        "try:\n",
        "    df = pd.read_csv(input_file, sep=';')\n",
        "\n",
        "    # Save the cleaned data to a new CSV file\n",
        "    df.to_csv(output_file, index=False)\n",
        "\n",
        "    print(f\"Data successfully separated into columns and saved to {output_file}\")\n",
        "except Exception as e:\n",
        "    print(f\"An error occurred: {e}\")\n"
      ]
    },
    {
      "cell_type": "code",
      "source": [
        "import pandas as pd\n",
        "\n",
        "# Load the CSV file\n",
        "file_path = 'output_file.csv'\n",
        "df = pd.read_csv(file_path)\n",
        "\n",
        "# Remove duplicate rows\n",
        "df_cleaned = df.drop_duplicates()\n",
        "\n",
        "# Save the cleaned data to an Excel file\n",
        "output_excel_path = 'duplicate_removed_output.csv'\n",
        "df_cleaned.to_csv(output_excel_path, index=False)\n",
        "\n",
        "print(f'Duplicates removed. Cleaned file saved as {output_excel_path}')\n"
      ],
      "metadata": {
        "colab": {
          "base_uri": "https://localhost:8080/"
        },
        "id": "HtYGoky78Q1Q",
        "outputId": "556d7a53-92ac-4422-c6b0-994629bcc59b"
      },
      "execution_count": null,
      "outputs": [
        {
          "output_type": "stream",
          "name": "stdout",
          "text": [
            "Duplicates removed. Cleaned file saved as duplicate_removed_output.csv\n"
          ]
        }
      ]
    }
  ]
}