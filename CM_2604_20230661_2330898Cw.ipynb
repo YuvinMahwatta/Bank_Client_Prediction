{
  "nbformat": 4,
  "nbformat_minor": 0,
  "metadata": {
    "colab": {
      "provenance": [],
      "authorship_tag": "ABX9TyNsHgX+PoJ3DIbCUgMtjb6k",
      "include_colab_link": true
    },
    "kernelspec": {
      "name": "python3",
      "display_name": "Python 3"
    },
    "language_info": {
      "name": "python"
    }
  },
  "cells": [
    {
      "cell_type": "markdown",
      "metadata": {
        "id": "view-in-github",
        "colab_type": "text"
      },
      "source": [
        "<a href=\"https://colab.research.google.com/github/YuvinMahwatta/Bank_Client_Prediction/blob/main/CM_2604_20230661_2330898Cw.ipynb\" target=\"_parent\"><img src=\"https://colab.research.google.com/assets/colab-badge.svg\" alt=\"Open In Colab\"/></a>"
      ]
    },
    {
      "cell_type": "markdown",
      "source": [
        "#Machine Learning Coursework"
      ],
      "metadata": {
        "id": "lwFqIgCpoX9S"
      }
    },
    {
      "cell_type": "markdown",
      "source": [
        "##Data Preproccesing"
      ],
      "metadata": {
        "id": "lZ_cU1Mtoepm"
      }
    },
    {
      "cell_type": "markdown",
      "source": [
        "###Imports"
      ],
      "metadata": {
        "id": "zR039POBooAG"
      }
    },
    {
      "cell_type": "code",
      "source": [
        "import pandas as pd\n",
        "import numpy as np\n",
        "import matplotlib.plypot as plt\n",
        "import seaborn as sns"
      ],
      "metadata": {
        "id": "IkWwKePtot2O"
      },
      "execution_count": null,
      "outputs": []
    },
    {
      "cell_type": "markdown",
      "source": [
        "###Importing the dataset"
      ],
      "metadata": {
        "id": "Kj672-5IpON5"
      }
    },
    {
      "cell_type": "code",
      "source": [],
      "metadata": {
        "id": "SFiA--y9pSyy"
      },
      "execution_count": null,
      "outputs": []
    }
  ]
}